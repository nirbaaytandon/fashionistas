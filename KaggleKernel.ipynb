{
  "cells": [
    {
      "metadata": {
        "_uuid": "5bb0908e8e9ee6738fe5f2181ebc367740c4875b"
      },
      "cell_type": "markdown",
      "source": "## Fashion MNIST with Convolutional Neural Networks"
    },
    {
      "metadata": {
        "_uuid": "fc65865b70e89ea6ead5cee5804997f096fd35dc"
      },
      "cell_type": "markdown",
      "source": "### Imports"
    },
    {
      "metadata": {
        "_cell_guid": "b1076dfc-b9ad-4769-8c92-a6c4dae69d19",
        "_uuid": "8f2839f25d086af736a60e9eeb907d3b93b6e0e5",
        "trusted": true,
        "collapsed": true
      },
      "cell_type": "code",
      "source": "import pandas as pd\nimport numpy as np\nimport tensorflow as tf\nimport matplotlib.pyplot as plt",
      "execution_count": 64,
      "outputs": []
    },
    {
      "metadata": {
        "_uuid": "90610f67b72426412dd052c6a32a926625f2f616"
      },
      "cell_type": "markdown",
      "source": "### Load Data"
    },
    {
      "metadata": {
        "_cell_guid": "79c7e3d0-c299-4dcb-8224-4455121ee9b0",
        "_uuid": "d629ff2d2480ee46fbb7e2d37f6b5fab8052498a",
        "trusted": true,
        "collapsed": true
      },
      "cell_type": "code",
      "source": "train_df = pd.read_csv('/kaggle/input/fashion-mnist_train.csv')\ntest_df = pd.read_csv('/kaggle/input/fashion-mnist_test.csv')\nX_train = train_df.iloc[:,1:].values\ny_train = train_df.iloc[:,0].values\nX_test = test_df.iloc[:,1:].values\ny_test = test_df.iloc[:,0].values",
      "execution_count": 65,
      "outputs": []
    },
    {
      "metadata": {
        "_uuid": "dea1ef93066ddb55283a2018d446b53214adc5a3"
      },
      "cell_type": "markdown",
      "source": "### Tensorflow graph reset function"
    },
    {
      "metadata": {
        "_uuid": "c2e726b6e0ac2a3fe7d3123a15196907b638e9c2"
      },
      "cell_type": "markdown",
      "source": "To make this notebook's output stable across multiple runs."
    },
    {
      "metadata": {
        "_uuid": "12d620d5162b94d68c12ba9f2e6702e200d3713b",
        "trusted": true,
        "collapsed": true
      },
      "cell_type": "code",
      "source": "def reset_graph(seed=42):\n    tf.reset_default_graph()\n    tf.set_random_seed(seed)\n    np.random.seed(seed)",
      "execution_count": 66,
      "outputs": []
    },
    {
      "metadata": {
        "_uuid": "94ed96bbbdac756c641f8bdd2b0793965146e7c0"
      },
      "cell_type": "markdown",
      "source": "### Sample Convolutional Kernels - horizontal and vertical lines"
    },
    {
      "metadata": {
        "_uuid": "9e64778c45e2a1106207fb0cd30a59d973f97b8d",
        "trusted": true
      },
      "cell_type": "code",
      "source": "fmap = np.zeros(shape=(3, 3, 1, 2), dtype=np.float32)\nfmap[:, 1, 0, 0] = 1\nfmap[1, :, 0, 1] = 1\n\nfig, axarr = plt.subplots(1, 2)\naxarr[0].imshow(fmap[:, :, 0, 0], cmap=\"gray\"); axarr[0].axis(\"off\")\naxarr[1].imshow(fmap[:, :, 0, 1], cmap=\"gray\"); axarr[1].axis(\"off\")\nplt.show()",
      "execution_count": 67,
      "outputs": [
        {
          "output_type": "display_data",
          "data": {
            "text/plain": "<matplotlib.figure.Figure at 0x7f08a72f4630>",
            "image/png": "[encoded data removed]"
          },
          "metadata": {}
        }
      ]
    },
    {
      "metadata": {
        "_uuid": "838ac0c177f3c03aaa8828f198f9a8d6ce23bd3f"
      },
      "cell_type": "markdown",
      "source": "### Simple convolutions"
    },
    {
      "metadata": {
        "_uuid": "2c9975289d7cd02262b698e2e036696c38157bbd"
      },
      "cell_type": "markdown",
      "source": "Let's try building a convolution using the two predefined kernels above, and then running a single datapoint through it."
    },
    {
      "metadata": {
        "_uuid": "5d61ffdc7aa8887cfc8afbac60ca4e57bf2450fe",
        "scrolled": true,
        "trusted": true,
        "collapsed": true
      },
      "cell_type": "code",
      "source": "reset_graph()\nX = tf.placeholder(tf.float32, shape=(None, 28, 28, 1))\nfeature_maps = tf.constant(fmap)\nconv1 = tf.nn.conv2d(X, feature_maps, strides=[1,1,1,1], padding=\"SAME\")",
      "execution_count": 68,
      "outputs": []
    },
    {
      "metadata": {
        "_uuid": "6bb31ddf5f8436907fc097cc1f0dc7490977faf1"
      },
      "cell_type": "markdown",
      "source": "### Setup inputs"
    },
    {
      "metadata": {
        "_uuid": "871905518cea5f46bab2278d0340fc93f1bbc136",
        "trusted": true,
        "collapsed": true
      },
      "cell_type": "code",
      "source": "images = X_train[12,:].reshape(1,28,28,1)",
      "execution_count": 69,
      "outputs": []
    },
    {
      "metadata": {
        "_uuid": "df11900eb3ce891e37b08db5959816ebfa8ad0a8"
      },
      "cell_type": "markdown",
      "source": "#### Run Graph"
    },
    {
      "metadata": {
        "_uuid": "6948dbfae052f243182f0d9f8902c2efb716dc62",
        "trusted": true,
        "collapsed": true
      },
      "cell_type": "code",
      "source": "with tf.Session() as sess:\n    output = sess.run(conv1, feed_dict={X: images})",
      "execution_count": 70,
      "outputs": []
    },
    {
      "metadata": {
        "_uuid": "9b389d46a311249ab5831398eac49daed9c2dbf7"
      },
      "cell_type": "markdown",
      "source": "### Show output"
    },
    {
      "metadata": {
        "_uuid": "056af5d140650499ac166d4c89f84cb279669835",
        "trusted": true
      },
      "cell_type": "code",
      "source": "fig, axarr = plt.subplots(1, 3)\naxarr[0].imshow(images[0, :, :, 0], cmap=\"gray\"); axarr[0].axis(\"off\"); axarr[0].set_title(\"Unprocessed\")\naxarr[1].imshow(output[0, :, :, 0], cmap=\"gray\"); axarr[1].axis(\"off\"); axarr[1].set_title(\"Vertical lines\")\naxarr[2].imshow(output[0, :, :, 1], cmap=\"gray\"); axarr[2].axis(\"off\"); axarr[2].set_title(\"Horizontal lines\")\nplt.show()",
      "execution_count": 71,
      "outputs": [
        {
          "output_type": "display_data",
          "data": {
            "text/plain": "<matplotlib.figure.Figure at 0x7f08f957d278>",
            "image/png": "[encoded data removed]"
          },
          "metadata": {}
        }
      ]
    },
    {
      "metadata": {
        "_uuid": "298c74409d1097044ece6b1f16040672a762d633"
      },
      "cell_type": "markdown",
      "source": "## Construct the network"
    },
    {
      "metadata": {
        "_uuid": "a5e92fd7a9d2f7c2c47f98f2117dce2d19ee66ab",
        "trusted": true,
        "collapsed": true
      },
      "cell_type": "code",
      "source": "reset_graph()",
      "execution_count": 72,
      "outputs": []
    },
    {
      "metadata": {
        "_uuid": "eca4cf80c2d999d214c608277f5d0ec2e18165f1"
      },
      "cell_type": "markdown",
      "source": "### Input Layer"
    },
    {
      "metadata": {
        "_uuid": "19909771895a99537b6712e34e26cf665a31f0b9"
      },
      "cell_type": "markdown",
      "source": "Now let's start building the neural network. First we will create the input layer:"
    },
    {
      "metadata": {
        "_uuid": "b510a6881708c053ee514810651241ecb94ca784",
        "trusted": true,
        "collapsed": true
      },
      "cell_type": "code",
      "source": "with tf.name_scope(\"input_layer\"):\n    X_batch = X_train.reshape(X_train.shape[0],28,28,1)[0:50,:,:,:] # take first 50 datapoints for now\n    batch_size, height, width, channels = X_batch.shape\n    X = tf.placeholder(shape=(None, height, width, channels), dtype=tf.float32, name=\"inputs\")",
      "execution_count": 73,
      "outputs": []
    },
    {
      "metadata": {
        "_uuid": "31ea3fa91f65d90bec0d958ebc681cc91dd5d43d"
      },
      "cell_type": "markdown",
      "source": "### Primary Convolutional Layer"
    },
    {
      "metadata": {
        "_uuid": "a3223f480e2319314b9e9c1c390f41b1a611a611"
      },
      "cell_type": "markdown",
      "source": "Next we will create the primary convolutional layer which will connect to the input layer."
    },
    {
      "metadata": {
        "_uuid": "3782938237e98151887ff878bef8d178886afbef",
        "trusted": true,
        "collapsed": true
      },
      "cell_type": "code",
      "source": "with tf.name_scope(\"convolutional_layers\"):\n    conv1 = tf.layers.conv2d(X, filters=32, kernel_size=3, strides=[1,1], padding=\"SAME\", name=\"conv1\")",
      "execution_count": 74,
      "outputs": []
    },
    {
      "metadata": {
        "_uuid": "8680b9044fbe47ee32987e0dd5b39f60fd847b9d"
      },
      "cell_type": "markdown",
      "source": "View the outputs of convolutional layer 1"
    },
    {
      "metadata": {
        "_uuid": "2c834ed4675bafc219bd015f256b14f22cbd506e"
      },
      "cell_type": "markdown",
      "source": "### Secondary Convolutional Layer"
    },
    {
      "metadata": {
        "_uuid": "bdd1b5946b2bc899f524f622379217417e8167f1",
        "trusted": true,
        "collapsed": true
      },
      "cell_type": "code",
      "source": "with tf.name_scope(\"convolutional_layers\"):\n    conv2 = tf.layers.conv2d(conv1, filters=64, kernel_size=3, strides=[2,2], padding=\"SAME\", name=\"conv2\")",
      "execution_count": 75,
      "outputs": []
    },
    {
      "metadata": {
        "_uuid": "fb1a080362f9c877b56a9af86dd8bde33882b9aa"
      },
      "cell_type": "markdown",
      "source": "### Pooling Layer"
    },
    {
      "metadata": {
        "_uuid": "3059d1ed4bf43d0258bc680c2baf258198203ede"
      },
      "cell_type": "markdown",
      "source": "We'll use a max pooling layer with 2x2 kernel size after the two convolutional layers."
    },
    {
      "metadata": {
        "_uuid": "a7088f9182ebd8a87f42827927226ef313cd21c9",
        "trusted": true,
        "collapsed": true
      },
      "cell_type": "code",
      "source": "with tf.name_scope(\"pooling_layers\"):\n    max_pool = tf.nn.max_pool(conv2, ksize=[1,2,2,1], strides=[1,2,2,1], padding=\"SAME\", name=\"pool1\")    \n    max_pool_flat = tf.reshape(max_pool, shape=[-1, 64 * 7 * 7], name=\"pool1_flat\")",
      "execution_count": 76,
      "outputs": []
    },
    {
      "metadata": {
        "_uuid": "9e678b6647ef3ccc127a9382ffaa61f39cbde100"
      },
      "cell_type": "markdown",
      "source": "### Fully connected layer"
    },
    {
      "metadata": {
        "_uuid": "1159e6990237fa82dc777ce11bbe743f3e28a215"
      },
      "cell_type": "markdown",
      "source": "Now let's add a fully connected layer to the max pooling layer."
    },
    {
      "metadata": {
        "_uuid": "4fbfaaefd651912d2af971241c394e12ad4fa036",
        "trusted": true,
        "collapsed": true
      },
      "cell_type": "code",
      "source": "with tf.name_scope(\"fully_connected\"):\n    fc1 = tf.layers.dense(max_pool_flat, 64, activation=tf.nn.relu, name=\"fc1\")",
      "execution_count": 77,
      "outputs": []
    },
    {
      "metadata": {
        "_uuid": "4db826eb5007f93b54f775150abd08baedca8d2f"
      },
      "cell_type": "markdown",
      "source": "### Output layer"
    },
    {
      "metadata": {
        "_uuid": "35ec69051fa06a18720b2e902514edf1782924e1"
      },
      "cell_type": "markdown",
      "source": "And finally an output layer with 10 outputs. We will also add a softmax on the outputs to get some estimated class probabilities."
    },
    {
      "metadata": {
        "_uuid": "206eb35433f5baad91e68817ccb9d18bf88c7efb",
        "trusted": true,
        "collapsed": true
      },
      "cell_type": "code",
      "source": "with tf.name_scope(\"output\"):\n    logits = tf.layers.dense(fc1, 10, name=\"logits\")\n    Y_probs = tf.nn.softmax(logits, name=\"Y_probs\")",
      "execution_count": 78,
      "outputs": []
    },
    {
      "metadata": {
        "_uuid": "44ed2c30d3716b1b8696fad6ba01c92666895757"
      },
      "cell_type": "markdown",
      "source": "### Save Model"
    },
    {
      "metadata": {
        "trusted": true,
        "collapsed": true,
        "_uuid": "bdc79762b5bf25b2ce16d1d7704403b60541aa93"
      },
      "cell_type": "code",
      "source": "# Add ops to save and restore all the variables.\nwith tf.name_scope(\"save\"):\n    saver = tf.train.Saver()",
      "execution_count": 79,
      "outputs": []
    },
    {
      "metadata": {
        "_uuid": "6b24fdd266298ebbcb0be6ccd1e0688977798150"
      },
      "cell_type": "markdown",
      "source": "## Run the untrained network"
    },
    {
      "metadata": {
        "_uuid": "8e6c089f36e3cedb7fca49347b78597d428e3ec8"
      },
      "cell_type": "markdown",
      "source": "At this stage we should run the model in it's untrained state to make sure that the ouputs from each layer look reasonable."
    },
    {
      "metadata": {
        "_uuid": "049cd6593398ed4d4be3ea82335350d47fac1b6a",
        "scrolled": true,
        "trusted": true,
        "collapsed": true
      },
      "cell_type": "code",
      "source": "with tf.Session() as sess:\n    tf.global_variables_initializer().run()\n    inputs_outputs, conv1_output, conv2_output, pool_output, pool_output_flat, logits_out, Y_probs_out = sess.run(\n        [X, conv1, conv2, max_pool, max_pool_flat, logits, Y_probs],\n        feed_dict={X: X_batch}\n    )\n    conv1_kernels = tf.get_collection(tf.GraphKeys.GLOBAL_VARIABLES , 'conv1/kernel')[0]    \n    conv2_kernels = tf.get_collection(tf.GraphKeys.GLOBAL_VARIABLES , 'conv2/kernel')[0]\n    conv1_kernels_np = conv1_kernels.eval()\n    conv2_kernels_np = conv2_kernels.eval()",
      "execution_count": 80,
      "outputs": []
    },
    {
      "metadata": {
        "_uuid": "987a29bfbbf95ceebfc10a9a9888b2c3c2127cec",
        "trusted": true,
        "collapsed": true
      },
      "cell_type": "code",
      "source": "# Helper function to plot outputs\ndef plot_data_point(dp, ax, title):\n    ax.imshow(dp, cmap=\"gray\")\n    ax.axis(\"off\")\n    ax.set_title(title)    ",
      "execution_count": 81,
      "outputs": []
    },
    {
      "metadata": {
        "_uuid": "a2e341f8461160270d417b0b80692affee1ed5df"
      },
      "cell_type": "markdown",
      "source": "Track some randomly selected data points through the various layers up to max pooling:"
    },
    {
      "metadata": {
        "_uuid": "8ba3a982c3fd3ac4b037860e22f1af1edd29501d",
        "trusted": true
      },
      "cell_type": "code",
      "source": "fig, axarr = plt.subplots(3,4)\n\n# plot filters\naxarr[0,0].axis(\"off\")\nplot_data_point(conv1_kernels_np[:,:,0,14], axarr[0,1], \"Conv. Filter 15\")\nplot_data_point(conv2_kernels_np[:,:,0,24], axarr[0,2], \"Conv. Filter 25\")\naxarr[0,3].axis(\"off\")\n\n# plot data point 10\nplot_data_point(inputs_outputs[9, :, :, 0], axarr[1,0], \"Input\")\nplot_data_point(conv1_output[9, :, :, 14], axarr[1,1], \"\")\nplot_data_point(conv2_output[9, :, :, 24], axarr[1,2], \"\")\nplot_data_point(pool_output[9, :, :, 49], axarr[1,3], \"Max Pooling\")\n\n# plot data point 20\nplot_data_point(inputs_outputs[19, :, :, 0], axarr[2,0], \"\")\nplot_data_point(conv1_output[19, :, :, 14], axarr[2,1], \"\")\nplot_data_point(conv2_output[19, :, :, 24], axarr[2,2], \"\")\nplot_data_point(pool_output[19, :, :, 49], axarr[2,3], \"\")\n\nplt.subplots_adjust(right=2, top=1)\nplt.show()",
      "execution_count": 82,
      "outputs": [
        {
          "output_type": "display_data",
          "data": {
            "text/plain": "<matplotlib.figure.Figure at 0x7f08cc090518>",
            "image/png": "[encoded data removed]"
          },
          "metadata": {}
        }
      ]
    },
    {
      "metadata": {
        "_uuid": "0ba1757cb2e3797f2a4e1f210e711df891f336c8"
      },
      "cell_type": "markdown",
      "source": "As expected, the images get more distorted with each layer, and there is a loss of resolution after conv2 (because of the stride 2 length) and after max pooling."
    },
    {
      "metadata": {
        "_uuid": "fbd56188f84b53bb45a585a2f5b9ed1640951c2c"
      },
      "cell_type": "markdown",
      "source": "We can also check the output dimensions are correct:"
    },
    {
      "metadata": {
        "_uuid": "a7e5e9d8be5d2c8986a513ff83515493075665c6",
        "trusted": true
      },
      "cell_type": "code",
      "source": "print(inputs_outputs.shape);\nprint(conv1_output.shape);\nprint(conv2_output.shape);\nprint(pool_output.shape);\nprint(pool_output_flat.shape);\nprint(logits_out.shape);\nprint(Y_probs_out.shape);",
      "execution_count": 83,
      "outputs": [
        {
          "output_type": "stream",
          "text": "(50, 28, 28, 1)\n(50, 28, 28, 32)\n(50, 14, 14, 64)\n(50, 7, 7, 64)\n(50, 3136)\n(50, 10)\n(50, 10)\n",
          "name": "stdout"
        }
      ]
    },
    {
      "metadata": {
        "_uuid": "e966503d6eeb355b0f07347f4f121833db4b1633"
      },
      "cell_type": "markdown",
      "source": "## Train the network"
    },
    {
      "metadata": {
        "_uuid": "4586b63851f8c8e0605dd99f7faaaca8971d6231"
      },
      "cell_type": "markdown",
      "source": "Now we need to train the network. Firstly, pull in the ground truth labels:"
    },
    {
      "metadata": {
        "_uuid": "bfd60494e468c2112815e87e310427b1eb14a5cc",
        "trusted": true,
        "collapsed": true
      },
      "cell_type": "code",
      "source": "with tf.name_scope(\"inputs\"):\n    y = tf.placeholder(tf.int32, shape=[None], name=\"y\")",
      "execution_count": 84,
      "outputs": []
    },
    {
      "metadata": {
        "_uuid": "bbe0e59e8b1cf3d24a50b0f084d7ec45002c3350"
      },
      "cell_type": "markdown",
      "source": "Next, define the training function:"
    },
    {
      "metadata": {
        "_uuid": "c71415763a4a29112aa9b70e63150324c64ea970",
        "trusted": true,
        "collapsed": true
      },
      "cell_type": "code",
      "source": "with tf.name_scope(\"train\"):\n    cross_entropy = tf.nn.sparse_softmax_cross_entropy_with_logits(logits=logits, labels=y)\n    loss_function = tf.reduce_mean(cross_entropy)\n    optimizer = tf.train.AdamOptimizer()\n    training_op = optimizer.minimize(loss_function)",
      "execution_count": 85,
      "outputs": []
    },
    {
      "metadata": {
        "_uuid": "e36327e33c5a39bc126fe302f02e475eded5c5a4"
      },
      "cell_type": "markdown",
      "source": "And the evaluation function:"
    },
    {
      "metadata": {
        "_uuid": "b60ba993c26526f317878a5457b692ab74992f25",
        "trusted": true,
        "collapsed": true
      },
      "cell_type": "code",
      "source": "with tf.name_scope(\"evaluation\"):\n    correct = tf.nn.in_top_k(logits, y, 1)\n    accuracy = tf.reduce_mean(tf.cast(correct, tf.float32))",
      "execution_count": 86,
      "outputs": []
    },
    {
      "metadata": {
        "_uuid": "1511dd8ec2926b9c60ac354af0d3cdfd44fc86b7"
      },
      "cell_type": "markdown",
      "source": "Now let's train the model!"
    },
    {
      "metadata": {
        "_uuid": "6f31355c8300922031f1e783ecf6094495009a8c",
        "trusted": true
      },
      "cell_type": "code",
      "source": "n_epochs = 30\nbatch_size = 1000\n\n# helper function to get batches of training data\ndef get_batch(X, y, iteration):\n    start = iteration * batch_size; end = min((iteration + 1) * batch_size - 1, X.shape[0] - 1)\n    X_batch = X[start:end,:].reshape(-1,28,28,1)\n    y_batch = y[start:end]\n    return X_batch, y_batch   \n\nwith tf.Session() as sess:\n    tf.global_variables_initializer().run()\n    \n    # Show train/test error befor training starts\n    X_batch, y_batch = get_batch(X_train, y_train, 0)\n    acc_train = accuracy.eval(feed_dict={X: X_batch, y: y_batch})\n    acc_test = accuracy.eval(feed_dict={X: X_test.reshape(-1,28,28,1), y: y_test})\n    print(\"Epoch:\", 0, \"Train accuracy:\", acc_train, \"Test accuracy:\", acc_test)\n    \n    # now start training\n    for epoch in range(n_epochs):\n        for iteration in range(X_train.shape[0] // batch_size):\n            start = iteration * batch_size; end = min((iteration + 1) * batch_size -1, X_train.shape[0] - 1)\n            X_batch, y_batch = get_batch(X_train, y_train, iteration)\n            sess.run(training_op, feed_dict={X: X_batch, y: y_batch})    \n        save_path = saver.save(sess, \"./model.ckpt\")\n        acc_train = accuracy.eval(feed_dict={X: X_batch, y: y_batch})\n        acc_test = accuracy.eval(feed_dict={X: X_test.reshape(-1,28,28,1), y: y_test})\n        print(\"Epoch:\", epoch + 1, \"Train accuracy:\", acc_train, \"Test accuracy:\", acc_test)\n    \n    # store convolutional kernel weights\n    conv1_kernels = tf.get_collection(tf.GraphKeys.GLOBAL_VARIABLES , 'conv1/kernel')[0]    \n    conv2_kernels = tf.get_collection(tf.GraphKeys.GLOBAL_VARIABLES , 'conv2/kernel')[0]\n    conv1_kernels_np = conv1_kernels.eval()\n    conv2_kernels_np = conv2_kernels.eval()",
      "execution_count": 87,
      "outputs": [
        {
          "output_type": "stream",
          "text": "Epoch: 0 Train accuracy: 0.13613613 Test accuracy: 0.1392\nEpoch: 1 Train accuracy: 0.7447447 Test accuracy: 0.7539\nEpoch: 2 Train accuracy: 0.8058058 Test accuracy: 0.8144\nEpoch: 3 Train accuracy: 0.8218218 Test accuracy: 0.8298\nEpoch: 4 Train accuracy: 0.8418418 Test accuracy: 0.8439\nEpoch: 5 Train accuracy: 0.8608609 Test accuracy: 0.8519\nEpoch: 6 Train accuracy: 0.8768769 Test accuracy: 0.8633\nEpoch: 7 Train accuracy: 0.8868869 Test accuracy: 0.8706\nEpoch: 8 Train accuracy: 0.8928929 Test accuracy: 0.8744\nEpoch: 9 Train accuracy: 0.8988989 Test accuracy: 0.8804\nEpoch: 10 Train accuracy: 0.9019019 Test accuracy: 0.8822\nEpoch: 11 Train accuracy: 0.9089089 Test accuracy: 0.8847\nEpoch: 12 Train accuracy: 0.9139139 Test accuracy: 0.8865\nEpoch: 13 Train accuracy: 0.9119119 Test accuracy: 0.8885\nEpoch: 14 Train accuracy: 0.9129129 Test accuracy: 0.8896\nEpoch: 15 Train accuracy: 0.9139139 Test accuracy: 0.8914\nEpoch: 16 Train accuracy: 0.9189189 Test accuracy: 0.8909\nEpoch: 17 Train accuracy: 0.9209209 Test accuracy: 0.8921\nEpoch: 18 Train accuracy: 0.9219219 Test accuracy: 0.8883\nEpoch: 19 Train accuracy: 0.9209209 Test accuracy: 0.8886\nEpoch: 20 Train accuracy: 0.9209209 Test accuracy: 0.8893\nEpoch: 21 Train accuracy: 0.9229229 Test accuracy: 0.8912\nEpoch: 22 Train accuracy: 0.9299299 Test accuracy: 0.8925\nEpoch: 23 Train accuracy: 0.9289289 Test accuracy: 0.895\nEpoch: 24 Train accuracy: 0.9299299 Test accuracy: 0.8916\nEpoch: 25 Train accuracy: 0.9269269 Test accuracy: 0.8939\nEpoch: 26 Train accuracy: 0.9379379 Test accuracy: 0.8994\nEpoch: 27 Train accuracy: 0.9349349 Test accuracy: 0.9003\nEpoch: 28 Train accuracy: 0.9359359 Test accuracy: 0.9012\nEpoch: 29 Train accuracy: 0.9409409 Test accuracy: 0.9005\nEpoch: 30 Train accuracy: 0.9409409 Test accuracy: 0.9014\n",
          "name": "stdout"
        }
      ]
    },
    {
      "metadata": {
        "_uuid": "944fdafad482faa3e080325cdbc0d0bb74aeaf6f"
      },
      "cell_type": "markdown",
      "source": "### Plot the same filters datapoints in the trained model"
    },
    {
      "metadata": {
        "_uuid": "e0d47618f0d003109a062c364ceeaac56d8c00e0",
        "trusted": true
      },
      "cell_type": "code",
      "source": "fig, axarr = plt.subplots(3,4)\n\n# plot filters\naxarr[0,0].axis(\"off\")\nplot_data_point(conv1_kernels_np[:,:,0,14], axarr[0,1], \"Conv. Filter 15\")\nplot_data_point(conv2_kernels_np[:,:,0,24], axarr[0,2], \"Conv. Filter 25\")\naxarr[0,3].axis(\"off\")\n\n# plot data point 10\nplot_data_point(inputs_outputs[9, :, :, 0], axarr[1,0], \"Input\")\nplot_data_point(conv1_output[9, :, :, 14], axarr[1,1], \"\")\nplot_data_point(conv2_output[9, :, :, 24], axarr[1,2], \"\")\nplot_data_point(pool_output[9, :, :, 49], axarr[1,3], \"Max Pooling\")\n\n# plot data point 20\nplot_data_point(inputs_outputs[19, :, :, 0], axarr[2,0], \"\")\nplot_data_point(conv1_output[19, :, :, 14], axarr[2,1], \"\")\nplot_data_point(conv2_output[19, :, :, 24], axarr[2,2], \"\")\nplot_data_point(pool_output[19, :, :, 49], axarr[2,3], \"\")\n\nplt.subplots_adjust(right=2, top=1)\nplt.show()",
      "execution_count": 88,
      "outputs": [
        {
          "output_type": "display_data",
          "data": {
            "text/plain": "<matplotlib.figure.Figure at 0x7f08cc13ea90>",
            "image/png": "[encoded data removed]"
          },
          "metadata": {}
        }
      ]
    },
    {
      "metadata": {
        "_uuid": "1ef3fd054097eab0e75a5a53823874eb2f283e2c"
      },
      "cell_type": "markdown",
      "source": "### What if we flip the inputs upside-down??"
    },
    {
      "metadata": {
        "trusted": true,
        "collapsed": true,
        "_uuid": "fcf4d19cd782bc0d2203a57321d995d9f95d60ae"
      },
      "cell_type": "code",
      "source": "def flip(X_in):\n    X_out = np.zeros(shape=X_in.shape, dtype=np.int64)\n    rows = X_in.shape[0]; cols = X_in.shape[1]\n    for i in range(0, rows):\n        for j in range(0,cols,28):\n            k = cols - j\n            X_out[i,j:j+28] = X_in[i,k-28:k]\n    return X_out",
      "execution_count": 89,
      "outputs": []
    },
    {
      "metadata": {
        "trusted": true,
        "_uuid": "0026203fd163498e661b93b79209a2e625ba814d"
      },
      "cell_type": "code",
      "source": "X_test_flipped = flip(X_test)\n\nfig, axarr = plt.subplots(2,2)\n\nplot_data_point(X_test[10,:].reshape(28,28), axarr[0,0],\"\")\nplot_data_point(X_test[20,:].reshape(28,28), axarr[0,1],\"\")\nplot_data_point(X_test_flipped[10,:].reshape(28,28), axarr[1,0],\"\")\nplot_data_point(X_test_flipped[20,:].reshape(28,28), axarr[1,1],\"\")",
      "execution_count": 90,
      "outputs": [
        {
          "output_type": "display_data",
          "data": {
            "text/plain": "<matplotlib.figure.Figure at 0x7f08cc068588>",
            "image/png": "[encoded data removed]"
          },
          "metadata": {}
        }
      ]
    },
    {
      "metadata": {
        "trusted": true,
        "_uuid": "3fe1dfb6febdacd546bb510df95d9a0eb5a2d5a1"
      },
      "cell_type": "code",
      "source": "with tf.Session() as sess:\n    \n    # restore model\n    saver.restore(sess, \"./model.ckpt\")\n        \n    acc_test = accuracy.eval(feed_dict={X: X_test.reshape(-1,28,28,1), y: y_test})\n    print(\"Test accuracy on original data:\", acc_test)\n    \n    acc_test = accuracy.eval(feed_dict={X: X_test_flipped.reshape(-1,28,28,1), y: y_test})\n    print(\"Test accuracy on flipped data:\", acc_test)",
      "execution_count": 91,
      "outputs": [
        {
          "output_type": "stream",
          "text": "INFO:tensorflow:Restoring parameters from ./model.ckpt\nTest accuracy on original data: 0.9014\nTest accuracy on flipped data: 0.2245\n",
          "name": "stdout"
        }
      ]
    }
  ],
  "metadata": {
    "kernelspec": {
      "display_name": "Python 3",
      "language": "python",
      "name": "python3"
    },
    "language_info": {
      "name": "python",
      "version": "3.6.4",
      "mimetype": "text/x-python",
      "codemirror_mode": {
        "name": "ipython",
        "version": 3
      },
      "pygments_lexer": "ipython3",
      "nbconvert_exporter": "python",
      "file_extension": ".py"
    }
  },
  "nbformat": 4,
  "nbformat_minor": 1
}