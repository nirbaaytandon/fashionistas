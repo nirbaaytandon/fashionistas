{
 "cells": [
  {
   "cell_type": "markdown",
   "metadata": {},
   "source": [
    "## Fashion MNIST with Convolutional Neural Networks"
   ]
  },
  {
   "cell_type": "markdown",
   "metadata": {
    "_uuid": "fc65865b70e89ea6ead5cee5804997f096fd35dc"
   },
   "source": [
    "### Imports"
   ]
  },
  {
   "cell_type": "code",
   "execution_count": 1,
   "metadata": {
    "_cell_guid": "b1076dfc-b9ad-4769-8c92-a6c4dae69d19",
    "_uuid": "8f2839f25d086af736a60e9eeb907d3b93b6e0e5"
   },
   "outputs": [],
   "source": [
    "import pandas as pd\n",
    "import numpy as np\n",
    "import tensorflow as tf\n",
    "import matplotlib.pyplot as plt"
   ]
  },
  {
   "cell_type": "markdown",
   "metadata": {},
   "source": [
    "### Helper function to load data from web"
   ]
  },
  {
   "cell_type": "code",
   "execution_count": 2,
   "metadata": {},
   "outputs": [],
   "source": [
    "def loadFromURL(path, offset):\n",
    "  \n",
    "  import gzip\n",
    "  import urllib   \n",
    "  import io\n",
    "\n",
    "  request = urllib.request.urlopen(path)\n",
    "  rbuf = io.BytesIO(request.read())\n",
    "  f = gzip.GzipFile(fileobj=rbuf)\n",
    "  data = f.read()\n",
    "\n",
    "  return np.frombuffer(data, dtype=np.uint8, offset=offset)\n",
    "\n",
    "\n",
    "def loadMNIST(path, kind='train'):\n",
    "  \n",
    "  import os   \n",
    "  \n",
    "  labels_path = os.path.join(path,'%s-labels-idx1-ubyte.gz' % kind)\n",
    "  images_path = os.path.join(path,'%s-images-idx3-ubyte.gz' % kind)\n",
    "  labels = loadFromURL(labels_path,8)\n",
    "  data = loadFromURL(images_path,16)\n",
    "  return data.reshape(len(labels), 784), labels\n"
   ]
  },
  {
   "cell_type": "markdown",
   "metadata": {
    "_uuid": "90610f67b72426412dd052c6a32a926625f2f616"
   },
   "source": [
    "### Load Data"
   ]
  },
  {
   "cell_type": "code",
   "execution_count": 3,
   "metadata": {
    "_cell_guid": "79c7e3d0-c299-4dcb-8224-4455121ee9b0",
    "_uuid": "d629ff2d2480ee46fbb7e2d37f6b5fab8052498a"
   },
   "outputs": [],
   "source": [
    "X_train, y_train = loadMNIST('http://fashion-mnist.s3-website.eu-central-1.amazonaws.com/', kind='train')\n",
    "X_test,  y_test  = loadMNIST('http://fashion-mnist.s3-website.eu-central-1.amazonaws.com/', kind='t10k')"
   ]
  },
  {
   "cell_type": "markdown",
   "metadata": {
    "_uuid": "dea1ef93066ddb55283a2018d446b53214adc5a3"
   },
   "source": [
    "### Tensorflow graph reset function"
   ]
  },
  {
   "cell_type": "markdown",
   "metadata": {
    "_uuid": "c2e726b6e0ac2a3fe7d3123a15196907b638e9c2"
   },
   "source": [
    "To make this notebook's output stable across multiple runs."
   ]
  },
  {
   "cell_type": "code",
   "execution_count": 4,
   "metadata": {
    "_uuid": "12d620d5162b94d68c12ba9f2e6702e200d3713b"
   },
   "outputs": [],
   "source": [
    "def reset_graph(seed=42):\n",
    "    tf.reset_default_graph()\n",
    "    tf.set_random_seed(seed)\n",
    "    np.random.seed(seed)"
   ]
  },
  {
   "cell_type": "markdown",
   "metadata": {
    "_uuid": "94ed96bbbdac756c641f8bdd2b0793965146e7c0"
   },
   "source": [
    "### Sample Convolutional Kernels - horizontal and vertical lines"
   ]
  },
  {
   "cell_type": "code",
   "execution_count": 5,
   "metadata": {
    "_uuid": "9e64778c45e2a1106207fb0cd30a59d973f97b8d"
   },
   "outputs": [
    {
     "data": {
      "image/png": "[encoded data removed]",
      "text/plain": [
       "<Figure size 432x288 with 2 Axes>"
      ]
     },
     "metadata": {},
     "output_type": "display_data"
    }
   ],
   "source": [
    "fmap = np.zeros(shape=(3, 3, 1, 2), dtype=np.float32)\n",
    "fmap[:, 1, 0, 0] = 1\n",
    "fmap[1, :, 0, 1] = 1\n",
    "\n",
    "fig, axarr = plt.subplots(1, 2)\n",
    "axarr[0].imshow(fmap[:, :, 0, 0], cmap=\"gray\"); axarr[0].axis(\"off\")\n",
    "axarr[1].imshow(fmap[:, :, 0, 1], cmap=\"gray\"); axarr[1].axis(\"off\")\n",
    "plt.show()"
   ]
  },
  {
   "cell_type": "markdown",
   "metadata": {
    "_uuid": "838ac0c177f3c03aaa8828f198f9a8d6ce23bd3f"
   },
   "source": [
    "### Simple convolutions"
   ]
  },
  {
   "cell_type": "markdown",
   "metadata": {
    "_uuid": "2c9975289d7cd02262b698e2e036696c38157bbd"
   },
   "source": [
    "Let's try building a convolution using the two predefined kernels above, and then running a single datapoint through it."
   ]
  },
  {
   "cell_type": "code",
   "execution_count": 6,
   "metadata": {
    "_uuid": "5d61ffdc7aa8887cfc8afbac60ca4e57bf2450fe",
    "scrolled": true
   },
   "outputs": [],
   "source": [
    "reset_graph()\n",
    "X = tf.placeholder(tf.float32, shape=(None, 28, 28, 1))\n",
    "feature_maps = tf.constant(fmap)\n",
    "conv1 = tf.nn.conv2d(X, feature_maps, strides=[1,1,1,1], padding=\"SAME\")"
   ]
  },
  {
   "cell_type": "markdown",
   "metadata": {
    "_uuid": "6bb31ddf5f8436907fc097cc1f0dc7490977faf1"
   },
   "source": [
    "### Setup inputs"
   ]
  },
  {
   "cell_type": "code",
   "execution_count": 7,
   "metadata": {
    "_uuid": "871905518cea5f46bab2278d0340fc93f1bbc136"
   },
   "outputs": [],
   "source": [
    "images = X_train[12,:].reshape(1,28,28,1)"
   ]
  },
  {
   "cell_type": "markdown",
   "metadata": {
    "_uuid": "df11900eb3ce891e37b08db5959816ebfa8ad0a8"
   },
   "source": [
    "#### Run Graph"
   ]
  },
  {
   "cell_type": "code",
   "execution_count": 8,
   "metadata": {
    "_uuid": "6948dbfae052f243182f0d9f8902c2efb716dc62"
   },
   "outputs": [],
   "source": [
    "with tf.Session() as sess:\n",
    "    output = sess.run(conv1, feed_dict={X: images})"
   ]
  },
  {
   "cell_type": "markdown",
   "metadata": {
    "_uuid": "9b389d46a311249ab5831398eac49daed9c2dbf7"
   },
   "source": [
    "### Show output"
   ]
  },
  {
   "cell_type": "code",
   "execution_count": 9,
   "metadata": {
    "_uuid": "056af5d140650499ac166d4c89f84cb279669835"
   },
   "outputs": [
    {
     "data": {
      "image/png": "[encoded data removed]",
      "text/plain": [
       "<Figure size 432x288 with 3 Axes>"
      ]
     },
     "metadata": {},
     "output_type": "display_data"
    }
   ],
   "source": [
    "fig, axarr = plt.subplots(1, 3)\n",
    "axarr[0].imshow(images[0, :, :, 0], cmap=\"gray\"); axarr[0].axis(\"off\"); axarr[0].set_title(\"Unprocessed\")\n",
    "axarr[1].imshow(output[0, :, :, 0], cmap=\"gray\"); axarr[1].axis(\"off\"); axarr[1].set_title(\"Vertical lines\")\n",
    "axarr[2].imshow(output[0, :, :, 1], cmap=\"gray\"); axarr[2].axis(\"off\"); axarr[2].set_title(\"Horizontal lines\")\n",
    "plt.show()"
   ]
  },
  {
   "cell_type": "markdown",
   "metadata": {
    "_uuid": "298c74409d1097044ece6b1f16040672a762d633"
   },
   "source": [
    "## Construct the network"
   ]
  },
  {
   "cell_type": "code",
   "execution_count": 10,
   "metadata": {
    "_uuid": "a5e92fd7a9d2f7c2c47f98f2117dce2d19ee66ab"
   },
   "outputs": [],
   "source": [
    "reset_graph()"
   ]
  },
  {
   "cell_type": "markdown",
   "metadata": {
    "_uuid": "eca4cf80c2d999d214c608277f5d0ec2e18165f1"
   },
   "source": [
    "### Input Layer"
   ]
  },
  {
   "cell_type": "markdown",
   "metadata": {
    "_uuid": "19909771895a99537b6712e34e26cf665a31f0b9"
   },
   "source": [
    "Now let's start building the neural network. First we will create the input layer:"
   ]
  },
  {
   "cell_type": "code",
   "execution_count": 11,
   "metadata": {
    "_uuid": "b510a6881708c053ee514810651241ecb94ca784"
   },
   "outputs": [],
   "source": [
    "with tf.name_scope(\"input_layer\"):\n",
    "    X_batch = X_train.reshape(X_train.shape[0],28,28,1)[0:50,:,:,:] # take first 50 datapoints for now\n",
    "    batch_size, height, width, channels = X_batch.shape\n",
    "    X = tf.placeholder(shape=(None, height, width, channels), dtype=tf.float32, name=\"inputs\")"
   ]
  },
  {
   "cell_type": "markdown",
   "metadata": {
    "_uuid": "31ea3fa91f65d90bec0d958ebc681cc91dd5d43d"
   },
   "source": [
    "### Primary Convolutional Layer"
   ]
  },
  {
   "cell_type": "markdown",
   "metadata": {
    "_uuid": "a3223f480e2319314b9e9c1c390f41b1a611a611"
   },
   "source": [
    "Next we will create the primary convolutional layer which will connect to the input layer."
   ]
  },
  {
   "cell_type": "code",
   "execution_count": 12,
   "metadata": {
    "_uuid": "3782938237e98151887ff878bef8d178886afbef"
   },
   "outputs": [],
   "source": [
    "with tf.name_scope(\"convolutional_layers\"):\n",
    "    conv1 = tf.layers.conv2d(X, filters=32, kernel_size=3, strides=[1,1], padding=\"SAME\", name=\"conv1\")"
   ]
  },
  {
   "cell_type": "markdown",
   "metadata": {
    "_uuid": "8680b9044fbe47ee32987e0dd5b39f60fd847b9d"
   },
   "source": [
    "View the outputs of convolutional layer 1"
   ]
  },
  {
   "cell_type": "markdown",
   "metadata": {
    "_uuid": "2c834ed4675bafc219bd015f256b14f22cbd506e"
   },
   "source": [
    "### Secondary Convolutional Layer"
   ]
  },
  {
   "cell_type": "code",
   "execution_count": 13,
   "metadata": {
    "_uuid": "bdd1b5946b2bc899f524f622379217417e8167f1"
   },
   "outputs": [],
   "source": [
    "with tf.name_scope(\"convolutional_layers\"):\n",
    "    conv2 = tf.layers.conv2d(conv1, filters=64, kernel_size=3, strides=[2,2], padding=\"SAME\", name=\"conv2\")"
   ]
  },
  {
   "cell_type": "markdown",
   "metadata": {
    "_uuid": "fb1a080362f9c877b56a9af86dd8bde33882b9aa"
   },
   "source": [
    "### Pooling Layer"
   ]
  },
  {
   "cell_type": "markdown",
   "metadata": {
    "_uuid": "3059d1ed4bf43d0258bc680c2baf258198203ede"
   },
   "source": [
    "We'll use a max pooling layer with 2x2 kernel size after the two convolutional layers."
   ]
  },
  {
   "cell_type": "code",
   "execution_count": 14,
   "metadata": {
    "_uuid": "a7088f9182ebd8a87f42827927226ef313cd21c9"
   },
   "outputs": [],
   "source": [
    "with tf.name_scope(\"pooling_layers\"):\n",
    "    max_pool = tf.nn.max_pool(conv2, ksize=[1,2,2,1], strides=[1,2,2,1], padding=\"SAME\", name=\"pool1\")    \n",
    "    max_pool_flat = tf.reshape(max_pool, shape=[-1, 64 * 7 * 7], name=\"pool1_flat\")"
   ]
  },
  {
   "cell_type": "markdown",
   "metadata": {
    "_uuid": "9e678b6647ef3ccc127a9382ffaa61f39cbde100"
   },
   "source": [
    "### Fully connected layer"
   ]
  },
  {
   "cell_type": "markdown",
   "metadata": {
    "_uuid": "1159e6990237fa82dc777ce11bbe743f3e28a215"
   },
   "source": [
    "Now let's add a fully connected layer to the max pooling layer."
   ]
  },
  {
   "cell_type": "code",
   "execution_count": 15,
   "metadata": {
    "_uuid": "4fbfaaefd651912d2af971241c394e12ad4fa036"
   },
   "outputs": [],
   "source": [
    "with tf.name_scope(\"fully_connected\"):\n",
    "    fc1 = tf.layers.dense(max_pool_flat, 64, activation=tf.nn.relu, name=\"fc1\")"
   ]
  },
  {
   "cell_type": "markdown",
   "metadata": {
    "_uuid": "4db826eb5007f93b54f775150abd08baedca8d2f"
   },
   "source": [
    "### Output layer"
   ]
  },
  {
   "cell_type": "markdown",
   "metadata": {
    "_uuid": "35ec69051fa06a18720b2e902514edf1782924e1"
   },
   "source": [
    "And finally an output layer with 10 outputs. We will also add a softmax on the outputs to get some estimated class probabilities."
   ]
  },
  {
   "cell_type": "code",
   "execution_count": 16,
   "metadata": {
    "_uuid": "206eb35433f5baad91e68817ccb9d18bf88c7efb"
   },
   "outputs": [],
   "source": [
    "with tf.name_scope(\"output\"):\n",
    "    logits = tf.layers.dense(fc1, 10, name=\"logits\")\n",
    "    Y_probs = tf.nn.softmax(logits, name=\"Y_probs\")"
   ]
  },
  {
   "cell_type": "markdown",
   "metadata": {
    "_uuid": "6b24fdd266298ebbcb0be6ccd1e0688977798150"
   },
   "source": [
    "## Run the untrained network"
   ]
  },
  {
   "cell_type": "markdown",
   "metadata": {
    "_uuid": "8e6c089f36e3cedb7fca49347b78597d428e3ec8"
   },
   "source": [
    "At this stage we should run the model in it's untrained state to make sure that the ouputs from each layer look reasonable."
   ]
  },
  {
   "cell_type": "code",
   "execution_count": 17,
   "metadata": {
    "_uuid": "049cd6593398ed4d4be3ea82335350d47fac1b6a",
    "scrolled": true
   },
   "outputs": [],
   "source": [
    "with tf.Session() as sess:\n",
    "    tf.global_variables_initializer().run()\n",
    "    inputs_outputs, conv1_output, conv2_output, pool_output, pool_output_flat, logits_out, Y_probs_out = sess.run(\n",
    "        [X, conv1, conv2, max_pool, max_pool_flat, logits, Y_probs],\n",
    "        feed_dict={X: X_batch}\n",
    "    )\n",
    "    conv1_kernels = tf.get_collection(tf.GraphKeys.GLOBAL_VARIABLES , 'conv1/kernel')[0]    \n",
    "    conv2_kernels = tf.get_collection(tf.GraphKeys.GLOBAL_VARIABLES , 'conv2/kernel')[0]\n",
    "    conv1_kernels_np = conv1_kernels.eval()\n",
    "    conv2_kernels_np = conv2_kernels.eval()"
   ]
  },
  {
   "cell_type": "code",
   "execution_count": 18,
   "metadata": {
    "_uuid": "987a29bfbbf95ceebfc10a9a9888b2c3c2127cec"
   },
   "outputs": [],
   "source": [
    "# Helper function to plot outputs\n",
    "def plot_data_point(dp, ax, title):\n",
    "    ax.imshow(dp, cmap=\"gray\")\n",
    "    ax.axis(\"off\")\n",
    "    ax.set_title(title)    "
   ]
  },
  {
   "cell_type": "markdown",
   "metadata": {
    "_uuid": "a2e341f8461160270d417b0b80692affee1ed5df"
   },
   "source": [
    "Track some randomly selected data points through the various layers up to max pooling:"
   ]
  },
  {
   "cell_type": "code",
   "execution_count": 19,
   "metadata": {
    "_uuid": "8ba3a982c3fd3ac4b037860e22f1af1edd29501d"
   },
   "outputs": [
    {
     "data": {
      "image/png": "[encoded data removed]",
      "text/plain": [
       "<Figure size 432x288 with 12 Axes>"
      ]
     },
     "metadata": {},
     "output_type": "display_data"
    }
   ],
   "source": [
    "fig, axarr = plt.subplots(3,4)\n",
    "\n",
    "# plot filters\n",
    "axarr[0,0].axis(\"off\")\n",
    "plot_data_point(conv1_kernels_np[:,:,0,14], axarr[0,1], \"Conv. Filter 15\")\n",
    "plot_data_point(conv2_kernels_np[:,:,0,24], axarr[0,2], \"Conv. Filter 25\")\n",
    "axarr[0,3].axis(\"off\")\n",
    "\n",
    "# plot data point 10\n",
    "plot_data_point(inputs_outputs[9, :, :, 0], axarr[1,0], \"Input\")\n",
    "plot_data_point(conv1_output[9, :, :, 14], axarr[1,1], \"\")\n",
    "plot_data_point(conv2_output[9, :, :, 24], axarr[1,2], \"\")\n",
    "plot_data_point(pool_output[9, :, :, 49], axarr[1,3], \"Max Pooling\")\n",
    "\n",
    "# plot data point 20\n",
    "plot_data_point(inputs_outputs[19, :, :, 0], axarr[2,0], \"\")\n",
    "plot_data_point(conv1_output[19, :, :, 14], axarr[2,1], \"\")\n",
    "plot_data_point(conv2_output[19, :, :, 24], axarr[2,2], \"\")\n",
    "plot_data_point(pool_output[19, :, :, 49], axarr[2,3], \"\")\n",
    "\n",
    "plt.subplots_adjust(right=2, top=1)\n",
    "plt.show()"
   ]
  },
  {
   "cell_type": "markdown",
   "metadata": {
    "_uuid": "0ba1757cb2e3797f2a4e1f210e711df891f336c8"
   },
   "source": [
    "As expected, the images get more distorted with each layer, and there is a loss of resolution after conv2 (because of the stride 2 length) and after max pooling."
   ]
  },
  {
   "cell_type": "markdown",
   "metadata": {
    "_uuid": "fbd56188f84b53bb45a585a2f5b9ed1640951c2c"
   },
   "source": [
    "We can also check the output dimensions are correct:"
   ]
  },
  {
   "cell_type": "code",
   "execution_count": 20,
   "metadata": {
    "_uuid": "a7e5e9d8be5d2c8986a513ff83515493075665c6"
   },
   "outputs": [
    {
     "name": "stdout",
     "output_type": "stream",
     "text": [
      "(50, 28, 28, 1)\n",
      "(50, 28, 28, 32)\n",
      "(50, 14, 14, 64)\n",
      "(50, 7, 7, 64)\n",
      "(50, 3136)\n",
      "(50, 10)\n",
      "(50, 10)\n"
     ]
    }
   ],
   "source": [
    "print(inputs_outputs.shape);\n",
    "print(conv1_output.shape);\n",
    "print(conv2_output.shape);\n",
    "print(pool_output.shape);\n",
    "print(pool_output_flat.shape);\n",
    "print(logits_out.shape);\n",
    "print(Y_probs_out.shape);"
   ]
  },
  {
   "cell_type": "markdown",
   "metadata": {
    "_uuid": "e966503d6eeb355b0f07347f4f121833db4b1633"
   },
   "source": [
    "## Train the network"
   ]
  },
  {
   "cell_type": "markdown",
   "metadata": {
    "_uuid": "4586b63851f8c8e0605dd99f7faaaca8971d6231"
   },
   "source": [
    "Now we need to train the network. Firstly, pull in the ground truth labels:"
   ]
  },
  {
   "cell_type": "code",
   "execution_count": 21,
   "metadata": {
    "_uuid": "bfd60494e468c2112815e87e310427b1eb14a5cc"
   },
   "outputs": [],
   "source": [
    "with tf.name_scope(\"inputs\"):\n",
    "    y = tf.placeholder(tf.int32, shape=[None], name=\"y\")"
   ]
  },
  {
   "cell_type": "markdown",
   "metadata": {
    "_uuid": "bbe0e59e8b1cf3d24a50b0f084d7ec45002c3350"
   },
   "source": [
    "Next, define the training function:"
   ]
  },
  {
   "cell_type": "code",
   "execution_count": 22,
   "metadata": {
    "_uuid": "c71415763a4a29112aa9b70e63150324c64ea970"
   },
   "outputs": [],
   "source": [
    "with tf.name_scope(\"train\"):\n",
    "    cross_entropy = tf.nn.sparse_softmax_cross_entropy_with_logits(logits=logits, labels=y)\n",
    "    loss_function = tf.reduce_mean(cross_entropy)\n",
    "    optimizer = tf.train.AdamOptimizer()\n",
    "    training_op = optimizer.minimize(loss_function)"
   ]
  },
  {
   "cell_type": "markdown",
   "metadata": {
    "_uuid": "e36327e33c5a39bc126fe302f02e475eded5c5a4"
   },
   "source": [
    "And the evaluation function:"
   ]
  },
  {
   "cell_type": "code",
   "execution_count": 23,
   "metadata": {
    "_uuid": "b60ba993c26526f317878a5457b692ab74992f25"
   },
   "outputs": [],
   "source": [
    "with tf.name_scope(\"evaluation\"):\n",
    "    correct = tf.nn.in_top_k(logits, y, 1)\n",
    "    accuracy = tf.reduce_mean(tf.cast(correct, tf.float32))"
   ]
  },
  {
   "cell_type": "markdown",
   "metadata": {
    "_uuid": "1511dd8ec2926b9c60ac354af0d3cdfd44fc86b7"
   },
   "source": [
    "Now let's train the model!"
   ]
  },
  {
   "cell_type": "code",
   "execution_count": 24,
   "metadata": {
    "_uuid": "6f31355c8300922031f1e783ecf6094495009a8c"
   },
   "outputs": [
    {
     "name": "stdout",
     "output_type": "stream",
     "text": [
      "Epoch: 0 Train accuracy: 0.11111111 Test accuracy: 0.1086\n",
      "Epoch: 1 Train accuracy: 0.7687688 Test accuracy: 0.7565\n"
     ]
    }
   ],
   "source": [
    "n_epochs = 30\n",
    "batch_size = 1000\n",
    "\n",
    "# helper function to get batches of training data\n",
    "def get_batch(X, y, iteration):\n",
    "    start = iteration * batch_size; end = min((iteration + 1) * batch_size - 1, X.shape[0] - 1)\n",
    "    X_batch = X[start:end,:].reshape(-1,28,28,1)\n",
    "    y_batch = y[start:end]\n",
    "    return X_batch, y_batch    \n",
    "\n",
    "with tf.Session() as sess:\n",
    "    tf.global_variables_initializer().run()\n",
    "    \n",
    "    # Show train/test error befor training starts\n",
    "    X_batch, y_batch = get_batch(X_train, y_train, 0)\n",
    "    acc_train = accuracy.eval(feed_dict={X: X_batch, y: y_batch})\n",
    "    acc_test = accuracy.eval(feed_dict={X: X_test.reshape(-1,28,28,1), y: y_test})\n",
    "    print(\"Epoch:\", 0, \"Train accuracy:\", acc_train, \"Test accuracy:\", acc_test)\n",
    "    \n",
    "    # now start training\n",
    "    for epoch in range(n_epochs):\n",
    "        for iteration in range(X_train.shape[0] // batch_size):\n",
    "            start = iteration * batch_size; end = min((iteration + 1) * batch_size -1, X_train.shape[0] - 1)\n",
    "            X_batch, y_batch = get_batch(X_train, y_train, iteration)\n",
    "            sess.run(training_op, feed_dict={X: X_batch, y: y_batch})\n",
    "        acc_train = accuracy.eval(feed_dict={X: X_batch, y: y_batch})\n",
    "        acc_test = accuracy.eval(feed_dict={X: X_test.reshape(-1,28,28,1), y: y_test})\n",
    "        print(\"Epoch:\", epoch + 1, \"Train accuracy:\", acc_train, \"Test accuracy:\", acc_test)\n",
    "    \n",
    "    # store convolutional kernel weights\n",
    "    conv1_kernels = tf.get_collection(tf.GraphKeys.GLOBAL_VARIABLES , 'conv1/kernel')[0]    \n",
    "    conv2_kernels = tf.get_collection(tf.GraphKeys.GLOBAL_VARIABLES , 'conv2/kernel')[0]\n",
    "    conv1_kernels_np = conv1_kernels.eval()\n",
    "    conv2_kernels_np = conv2_kernels.eval()"
   ]
  },
  {
   "cell_type": "markdown",
   "metadata": {},
   "source": [
    "### Plot the same filters datapoints in the trained model"
   ]
  },
  {
   "cell_type": "code",
   "execution_count": 24,
   "metadata": {
    "_uuid": "e0d47618f0d003109a062c364ceeaac56d8c00e0"
   },
   "outputs": [
    {
     "data": {
      "image/png": "[encoded data removed]",
      "text/plain": [
       "<Figure size 432x288 with 12 Axes>"
      ]
     },
     "metadata": {},
     "output_type": "display_data"
    }
   ],
   "source": [
    "fig, axarr = plt.subplots(3,4)\n",
    "\n",
    "# plot filters\n",
    "axarr[0,0].axis(\"off\")\n",
    "plot_data_point(conv1_kernels_np[:,:,0,14], axarr[0,1], \"Conv. Filter 15\")\n",
    "plot_data_point(conv2_kernels_np[:,:,0,24], axarr[0,2], \"Conv. Filter 25\")\n",
    "axarr[0,3].axis(\"off\")\n",
    "\n",
    "# plot data point 10\n",
    "plot_data_point(inputs_outputs[9, :, :, 0], axarr[1,0], \"Input\")\n",
    "plot_data_point(conv1_output[9, :, :, 14], axarr[1,1], \"\")\n",
    "plot_data_point(conv2_output[9, :, :, 24], axarr[1,2], \"\")\n",
    "plot_data_point(pool_output[9, :, :, 49], axarr[1,3], \"Max Pooling\")\n",
    "\n",
    "# plot data point 20\n",
    "plot_data_point(inputs_outputs[19, :, :, 0], axarr[2,0], \"\")\n",
    "plot_data_point(conv1_output[19, :, :, 14], axarr[2,1], \"\")\n",
    "plot_data_point(conv2_output[19, :, :, 24], axarr[2,2], \"\")\n",
    "plot_data_point(pool_output[19, :, :, 49], axarr[2,3], \"\")\n",
    "\n",
    "plt.subplots_adjust(right=2, top=1)\n",
    "plt.show()"
   ]
  },
  {
   "cell_type": "markdown",
   "metadata": {},
   "source": [
    "### What if we flip the inputs upside-down??"
   ]
  },
  {
   "cell_type": "code",
   "execution_count": 25,
   "metadata": {},
   "outputs": [],
   "source": [
    "def flip(X_in):\n",
    "    X_out = np.zeros(shape=X_in.shape, dtype=np.int64)\n",
    "    rows = X_in.shape[0]; cols = X_in.shape[1]\n",
    "    for i in range(0, rows):\n",
    "        for j in range(0,cols,28):\n",
    "            k = cols - j\n",
    "            X_out[i,j:j+28] = X_in[i,k-28:k]\n",
    "    return X_out"
   ]
  },
  {
   "cell_type": "code",
   "execution_count": 26,
   "metadata": {},
   "outputs": [
    {
     "data": {
      "image/png": "[encoded data removed]",
      "text/plain": [
       "<Figure size 432x288 with 4 Axes>"
      ]
     },
     "metadata": {},
     "output_type": "display_data"
    }
   ],
   "source": [
    "X_test_flipped = flip(X_test)\n",
    "\n",
    "fig, axarr = plt.subplots(2,2)\n",
    "\n",
    "plot_data_point(X_test[10,:].reshape(28,28), axarr[0,0],\"\")\n",
    "plot_data_point(X_test[20,:].reshape(28,28), axarr[0,1],\"\")\n",
    "plot_data_point(X_test_flipped[10,:].reshape(28,28), axarr[1,0],\"\")\n",
    "plot_data_point(X_test_flipped[20,:].reshape(28,28), axarr[1,1],\"\")"
   ]
  },
  {
   "cell_type": "code",
   "execution_count": 28,
   "metadata": {},
   "outputs": [
    {
     "name": "stdout",
     "output_type": "stream",
     "text": [
      "Test accuracy on flipped data: 0.1272\n"
     ]
    }
   ],
   "source": [
    "with tf.Session() as sess:\n",
    "    tf.global_variables_initializer().run()\n",
    "    \n",
    "    acc_test = accuracy.eval(feed_dict={X: X_test_flipped.reshape(-1,28,28,1), y: y_test})\n",
    "    print(\"Test accuracy on flipped data:\", acc_test)"
   ]
  }
 ],
 "metadata": {
  "kernelspec": {
   "display_name": "Python 3",
   "language": "python",
   "name": "python3"
  },
  "language_info": {
   "codemirror_mode": {
    "name": "ipython",
    "version": 3
   },
   "file_extension": ".py",
   "mimetype": "text/x-python",
   "name": "python",
   "nbconvert_exporter": "python",
   "pygments_lexer": "ipython3",
   "version": "3.6.6"
  }
 },
 "nbformat": 4,
 "nbformat_minor": 1
}
